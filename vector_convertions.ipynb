{
 "cells": [
  {
   "cell_type": "code",
   "execution_count": 2,
   "metadata": {},
   "outputs": [],
   "source": [
    "import modern_robotics as mr \n",
    "import numpy as np"
   ]
  },
  {
   "cell_type": "markdown",
   "metadata": {},
   "source": [
    "# Notebook for converting vectors back and forth from vector and matrix enterpritations. "
   ]
  },
  {
   "cell_type": "markdown",
   "metadata": {},
   "source": [
    "## Converting 3-vector (such as angular velocities) to their 3-matrix representation"
   ]
  },
  {
   "cell_type": "code",
   "execution_count": 3,
   "metadata": {},
   "outputs": [
    {
     "data": {
      "text/plain": [
       "array([[ 0, -1,  0],\n",
       "       [ 1,  0,  0],\n",
       "       [ 0,  0,  0]])"
      ]
     },
     "execution_count": 3,
     "metadata": {},
     "output_type": "execute_result"
    }
   ],
   "source": [
    "\n",
    "\n",
    "mr.VecToso3([0, 0, 1])"
   ]
  },
  {
   "cell_type": "markdown",
   "metadata": {},
   "source": [
    "## Converting 3-matrix (such as matrix representations of angular velocities) to their 3-vector representation"
   ]
  },
  {
   "cell_type": "code",
   "execution_count": 4,
   "metadata": {},
   "outputs": [
    {
     "data": {
      "text/plain": [
       "array([0, 0, 1])"
      ]
     },
     "execution_count": 4,
     "metadata": {},
     "output_type": "execute_result"
    }
   ],
   "source": [
    "\n",
    "mr.so3ToVec([[0, -1, 0], \n",
    "             [1, 0, 0],\n",
    "             [0, 0, 0]])"
   ]
  },
  {
   "cell_type": "markdown",
   "metadata": {},
   "source": [
    "## Converting a 6-vector (such as screw axis) to its 4-matrix representation"
   ]
  },
  {
   "cell_type": "code",
   "execution_count": 9,
   "metadata": {},
   "outputs": [
    {
     "data": {
      "text/plain": [
       "array([[0., 0., 0., 0.],\n",
       "       [0., 0., 0., 1.],\n",
       "       [0., 0., 0., 0.],\n",
       "       [0., 0., 0., 0.]])"
      ]
     },
     "execution_count": 9,
     "metadata": {},
     "output_type": "execute_result"
    }
   ],
   "source": [
    "mr.VecTose3([0, 0, 0, 0, 1, 0])"
   ]
  },
  {
   "cell_type": "markdown",
   "metadata": {},
   "source": [
    "## Converting a 4-matrix (such as a screw axis matrix) to its 6-vector representation"
   ]
  },
  {
   "cell_type": "code",
   "execution_count": 7,
   "metadata": {},
   "outputs": [
    {
     "data": {
      "text/plain": [
       "array([0, 0, 1, 0, 0, 0])"
      ]
     },
     "execution_count": 7,
     "metadata": {},
     "output_type": "execute_result"
    }
   ],
   "source": [
    "mr.se3ToVec([[0, -1, 0, 0],\n",
    "            [1, 0, 0, 0], \n",
    "            [0, 0, 0, 0], \n",
    "            [0, 0, 0, 0]])"
   ]
  },
  {
   "cell_type": "markdown",
   "metadata": {},
   "source": [
    "## Taking exponential of 3-matrix"
   ]
  },
  {
   "cell_type": "code",
   "execution_count": 12,
   "metadata": {},
   "outputs": [
    {
     "data": {
      "text/plain": [
       "array([[1.67, 0.81, 0.94],\n",
       "       [1.48, 2.82, 2.15],\n",
       "       [2.29, 2.82, 4.36]])"
      ]
     },
     "execution_count": 12,
     "metadata": {},
     "output_type": "execute_result"
    }
   ],
   "source": [
    "mr.MatrixExp3([[1, 2, 3], \n",
    "               [4, 5, 6], \n",
    "               [7, 8, 9]]).round(2)"
   ]
  },
  {
   "cell_type": "markdown",
   "metadata": {},
   "source": [
    "## Taking exponential of 6-matrix"
   ]
  },
  {
   "cell_type": "code",
   "execution_count": 14,
   "metadata": {},
   "outputs": [
    {
     "data": {
      "text/plain": [
       "array([[ 0.54, -0.84,  0.  ,  0.  ],\n",
       "       [ 0.84,  0.54,  0.  ,  0.  ],\n",
       "       [ 0.  ,  0.  ,  1.  ,  0.  ],\n",
       "       [ 0.  ,  0.  ,  0.  ,  1.  ]])"
      ]
     },
     "execution_count": 14,
     "metadata": {},
     "output_type": "execute_result"
    }
   ],
   "source": [
    "mr.MatrixExp6([[0, -1, 0, 0], \n",
    "               [1, 0, 0, 0], \n",
    "               [0, 0, 0, 0], \n",
    "               [0, 0, 0, 0]]).round(2)"
   ]
  },
  {
   "cell_type": "markdown",
   "metadata": {},
   "source": [
    "## Doing forward kinematics in space and body\n",
    "Returns the transformation between the space frame and body frame given the angle displacement of each joint. \n",
    "\n",
    "- M : relation between space frame and body frame, 4x4\n",
    "- S : List of screw axis of each joint, 6x1 * number of joints \n",
    "- theta : List of angles each joint move, 1x number of joints"
   ]
  },
  {
   "cell_type": "code",
   "execution_count": 69,
   "metadata": {},
   "outputs": [
    {
     "data": {
      "text/plain": [
       "array([[-0.,  1., -0., -0.],\n",
       "       [-1., -0.,  0.,  0.],\n",
       "       [ 0.,  0.,  1.,  6.],\n",
       "       [ 0.,  0.,  0.,  1.]])"
      ]
     },
     "execution_count": 69,
     "metadata": {},
     "output_type": "execute_result"
    }
   ],
   "source": [
    "\n",
    "M = [[-1, 0, 0, 0], \n",
    "     [0, 0, 1, 3], \n",
    "     [0, 1, 0, 2], \n",
    "     [0, 0, 0, 1]]\n",
    "S = np.array([[0, 1, 0, 3, 0, 0], [-1, 0, 0, 0, 3, 0], [0, 0, 0, 0, 0, 1]]).T\n",
    "theta = [np.pi/2, np.pi/2, 1]\n",
    "\n",
    "#mr.FKinSpace(M, S, theta).round(2)\n",
    "\n",
    "mr.FKinBody(M, S, theta).round(2)\n",
    "\n",
    "\n",
    "\n"
   ]
  },
  {
   "cell_type": "markdown",
   "metadata": {},
   "source": [
    "### Giving coords to each joint in a forwards kinematics problem\n",
    "Running this loop gives transformations for each joint in a forward kinematics problem. \n",
    "\n",
    "NOTE! Use this code along with exercise to double check that everything makes sense. \n"
   ]
  },
  {
   "cell_type": "code",
   "execution_count": 64,
   "metadata": {},
   "outputs": [
    {
     "name": "stdout",
     "output_type": "stream",
     "text": [
      "Transformation of joint 2:    \n",
      " [[ 0. -1.  0.  0.]\n",
      " [ 1.  0.  0.  0.]\n",
      " [ 0.  0.  1.  2.]\n",
      " [ 0.  0.  0.  1.]]\n",
      "Transformation of joint 3:    \n",
      " [[ 0. -0.  1. -0.]\n",
      " [ 1.  0. -0.  0.]\n",
      " [ 0.  1.  0.  5.]\n",
      " [ 0.  0.  0.  1.]]\n",
      "Transformation of body frame:    \n",
      " [[-0.  1. -0. -0.]\n",
      " [-1. -0.  0.  0.]\n",
      " [ 0.  0.  1.  6.]\n",
      " [ 0.  0.  0.  1.]]\n"
     ]
    }
   ],
   "source": [
    "hyper_M = [\n",
    "    [[1, 0, 0, 0],\n",
    "     [0, 1, 0, 0],\n",
    "     [0, 0, 1, 2],\n",
    "     [0, 0, 0, 1]],\n",
    "\n",
    "    [[1, 0, 0, 0], \n",
    "     [0, 1, 0, 3],\n",
    "     [0, 0, 1, 2], \n",
    "     [0, 0, 0, 1]],\n",
    "\n",
    "    [[-1, 0, 0, 0], \n",
    "     [0, 0, 1, 3], \n",
    "     [0, 1, 0, 2], \n",
    "     [0, 0, 0, 1]]]\n",
    "S = np.array([[0, 0, 1, 0, 0, 0], [1, 0, 0, 0, 2, 0], [0, 0, 0, 0, 1, 0]])\n",
    "\n",
    "theta = [np.pi/2, np.pi/2, 1]\n",
    "\n",
    "for i, M in enumerate(hyper_M): \n",
    "\n",
    "    if i+1 == len(hyper_M): \n",
    "\n",
    "        print(f\"Transformation of body frame:    \\n\", mr.FKinSpace(M=M, Slist=S[:i+1].T, thetalist=theta[:i+1]).round(2) )\n",
    "\n",
    "    else: \n",
    "        print(f\"Transformation of joint {i+2}:    \\n\", mr.FKinSpace(M=M, Slist=S[:i+1].T, thetalist=theta[:i+1]).round(2) )\n"
   ]
  },
  {
   "cell_type": "markdown",
   "metadata": {},
   "source": [
    "## Calculating the Space/ body jacobian given screw axes and joint angles"
   ]
  },
  {
   "cell_type": "code",
   "execution_count": 6,
   "metadata": {},
   "outputs": [
    {
     "data": {
      "text/plain": [
       "array([[ 0., -1.,  0.],\n",
       "       [ 0.,  0.,  0.],\n",
       "       [ 1.,  0.,  0.],\n",
       "       [ 0.,  0.,  0.],\n",
       "       [ 0.,  4.,  0.],\n",
       "       [ 0.,  0.,  1.]])"
      ]
     },
     "execution_count": 6,
     "metadata": {},
     "output_type": "execute_result"
    }
   ],
   "source": [
    "\n",
    "S_list = np.array([[0, 1, 0, 3, 0, 0], [-1, 0, 0, 0, 3, 0], [0, 0, 0, 0, 0, 1]]).T\n",
    "\n",
    "theta = [np.pi/2, np.pi/2, 1]\n",
    "\n",
    "mr.JacobianSpace(Slist=S_list, thetalist=theta).round(2)\n",
    "\n",
    "mr.JacobianBody(Blist=S_list, thetalist=theta).round(2)\n"
   ]
  },
  {
   "cell_type": "code",
   "execution_count": null,
   "metadata": {},
   "outputs": [],
   "source": []
  }
 ],
 "metadata": {
  "kernelspec": {
   "display_name": "Python 3",
   "language": "python",
   "name": "python3"
  },
  "language_info": {
   "codemirror_mode": {
    "name": "ipython",
    "version": 3
   },
   "file_extension": ".py",
   "mimetype": "text/x-python",
   "name": "python",
   "nbconvert_exporter": "python",
   "pygments_lexer": "ipython3",
   "version": "3.10.7"
  }
 },
 "nbformat": 4,
 "nbformat_minor": 2
}
